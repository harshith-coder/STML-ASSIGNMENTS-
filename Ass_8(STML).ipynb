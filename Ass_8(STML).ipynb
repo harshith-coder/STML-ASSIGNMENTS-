{
  "nbformat": 4,
  "nbformat_minor": 0,
  "metadata": {
    "colab": {
      "provenance": [],
      "authorship_tag": "ABX9TyOw/bUdH6FUXnFoUhmy+0TM",
      "include_colab_link": true
    },
    "kernelspec": {
      "name": "python3",
      "display_name": "Python 3"
    },
    "language_info": {
      "name": "python"
    }
  },
  "cells": [
    {
      "cell_type": "markdown",
      "metadata": {
        "id": "view-in-github",
        "colab_type": "text"
      },
      "source": [
        "<a href=\"https://colab.research.google.com/github/harshith-coder/STML-ASSIGNMENTS-/blob/main/Ass_8(STML).ipynb\" target=\"_parent\"><img src=\"https://colab.research.google.com/assets/colab-badge.svg\" alt=\"Open In Colab\"/></a>"
      ]
    },
    {
      "cell_type": "code",
      "execution_count": 1,
      "metadata": {
        "colab": {
          "base_uri": "https://localhost:8080/"
        },
        "id": "rKujdq9Sg87s",
        "outputId": "b25b7c7e-7b31-4369-c330-200319128c11"
      },
      "outputs": [
        {
          "output_type": "stream",
          "name": "stdout",
          "text": [
            "Mounted at /content/drive\n"
          ]
        }
      ],
      "source": [
        "from google.colab import drive\n",
        "drive.mount('/content/drive')"
      ]
    },
    {
      "cell_type": "code",
      "source": [
        "import numpy as np\n",
        "from sklearn.linear_model import LogisticRegression\n",
        "from sklearn.model_selection import train_test_split\n",
        "from sklearn.metrics import accuracy_score\n",
        "import pandas as pd"
      ],
      "metadata": {
        "id": "p-Kj55idLE4i"
      },
      "execution_count": 2,
      "outputs": []
    },
    {
      "cell_type": "code",
      "source": [
        "data = {\n",
        "    'X1': [10, 5, 15, 2, 12, 8, 14, 3, 11, 6],\n",
        "    'X2': [90, 60, 95, 30, 85, 75, 92, 50, 88, 65],\n",
        "    'X3': [85, 70, 90, 50, 88, 65, 93, 55, 80, 60],\n",
        "    'X4': [1, 0, 1, 0, 1, 0, 1, 0, 1, 0],\n",
        "    'X5': [100, 80, 100, 40, 90, 70, 95, 60, 85, 75],\n",
        "    'Result': [1, 0, 1, 0, 1, 0, 1, 0, 1, 0]\n",
        "}\n",
        "df = pd.DataFrame(data)\n",
        "x = df.drop(\"Result\", axis=1)\n",
        "y = df['Result']\n",
        "\n",
        "x_train, x_test, y_train, y_test = train_test_split(x, y, test_size=0.2, random_state=42)\n",
        "lr = LogisticRegression()\n",
        "lr.fit(x_train, y_train)\n",
        "y_pred = lr.predict(x_test)\n",
        "accuracy = accuracy_score(y_test, y_pred)\n",
        "print(\"Accuracy of Logistic Regression Model is \", accuracy)\n",
        "\n",
        "x1 = int(input(\"Enter the Value for X1: \"))\n",
        "x2 = int(input(\"Enter the Value for X2: \"))\n",
        "x3 = int(input(\"Enter the Value for X3: \"))\n",
        "x4 = int(input(\"Enter the Value for X4: \"))\n",
        "x5 = int(input(\"Enter the Value for X5: \"))\n",
        "\n",
        "user_data = pd.DataFrame({\n",
        "    'X1': [x1], 'X2': [x2], 'X3': [x3], 'X4': [x4], 'X5': [x5]\n",
        "})\n",
        "\n",
        "prediction = lr.predict(user_data)\n",
        "\n",
        "if prediction[0] == 0:\n",
        "    print(\"The Student will pass the exam\")\n",
        "else:\n",
        "    print(\"The Student will fail the exam\")\n"
      ],
      "metadata": {
        "colab": {
          "base_uri": "https://localhost:8080/"
        },
        "id": "4KRL05-ahR2F",
        "outputId": "6c85f393-a530-467a-9289-57d1b2a1c458"
      },
      "execution_count": 16,
      "outputs": [
        {
          "output_type": "stream",
          "name": "stdout",
          "text": [
            "Accuracy of Logistic Regression Model is  1.0\n",
            "Enter the Value for X1: 10\n",
            "Enter the Value for X2: 20\n",
            "Enter the Value for X3: 30\n",
            "Enter the Value for X4: 40\n",
            "Enter the Value for X5: 50\n",
            "The Student will pass the exam\n"
          ]
        }
      ]
    },
    {
      "cell_type": "code",
      "source": [
        "from sklearn.preprocessing import LabelEncoder\n",
        "data2=pd.read_csv(\"/content/drive/MyDrive/diabetes_data_upload.csv\")\n",
        "df2=pd.DataFrame(data2)\n",
        "\n",
        "le=LabelEncoder()\n",
        "cols=[df2.columns]\n",
        "for i in df2.columns:\n",
        "  df2[i]=le.fit_transform(df2[i])\n",
        "df2\n",
        "x1=df2.drop(\"class\",axis=1)\n",
        "y1=df2['class']\n",
        "lr.fit(x1,y1)\n",
        "X_train,X_test,Y_train,Y_test=train_test_split(x1,y1,test_size=0.2,random_state=42)\n",
        "Y_pred=lr.predict(X_test)\n",
        "accuracy=accuracy_score(Y_test,Y_pred)\n",
        "print(\"Accuracy of Logistic Regression Model is \",accuracy)"
      ],
      "metadata": {
        "colab": {
          "base_uri": "https://localhost:8080/"
        },
        "id": "IziCFjrNNdew",
        "outputId": "e70e6307-6514-436e-c7ad-ceee68fa8b86"
      },
      "execution_count": 17,
      "outputs": [
        {
          "output_type": "stream",
          "name": "stdout",
          "text": [
            "Accuracy of Logistic Regression Model is  0.9326923076923077\n"
          ]
        }
      ]
    }
  ]
}